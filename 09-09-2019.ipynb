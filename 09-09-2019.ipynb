{
 "cells": [
  {
   "cell_type": "markdown",
   "metadata": {},
   "source": [
    "# list "
   ]
  },
  {
   "cell_type": "code",
   "execution_count": 20,
   "metadata": {},
   "outputs": [
    {
     "data": {
      "text/plain": [
       "[8, 6, 4, 3, 2, 1]"
      ]
     },
     "execution_count": 20,
     "metadata": {},
     "output_type": "execute_result"
    }
   ],
   "source": [
    "li=[1,3,6,8,2,4]\n",
    "li.sort(reverse=True)\n",
    "li"
   ]
  },
  {
   "cell_type": "code",
   "execution_count": 24,
   "metadata": {},
   "outputs": [
    {
     "ename": "SyntaxError",
     "evalue": "invalid syntax (<ipython-input-24-4b0961b67b14>, line 3)",
     "output_type": "error",
     "traceback": [
      "\u001b[1;36m  File \u001b[1;32m\"<ipython-input-24-4b0961b67b14>\"\u001b[1;36m, line \u001b[1;32m3\u001b[0m\n\u001b[1;33m    print sorted (x)\u001b[0m\n\u001b[1;37m               ^\u001b[0m\n\u001b[1;31mSyntaxError\u001b[0m\u001b[1;31m:\u001b[0m invalid syntax\n"
     ]
    }
   ],
   "source": [
    "# List\n",
    "x=[q,w,e,r,t,y]\n",
    "print sorted (x)"
   ]
  },
  {
   "cell_type": "markdown",
   "metadata": {},
   "source": [
    "# append \n"
   ]
  },
  {
   "cell_type": "code",
   "execution_count": 30,
   "metadata": {},
   "outputs": [
    {
     "name": "stdout",
     "output_type": "stream",
     "text": [
      "['apple', 'banana', 'cherry', ['ford', 'bmw', 'wolkeswagon']]\n"
     ]
    }
   ],
   "source": [
    "a=[\"apple\",\"banana\",\"cherry\",]\n",
    "b=[\"ford\",\"bmw\",\"wolkeswagon\"]\n",
    "a.append(b)\n",
    "print(a)"
   ]
  },
  {
   "cell_type": "code",
   "execution_count": 4,
   "metadata": {},
   "outputs": [
    {
     "name": "stdout",
     "output_type": "stream",
     "text": [
      "To\n",
      "get\n",
      "started\n",
      "with\n",
      "Python\n",
      "sorting,\n",
      "you’re\n",
      "first\n",
      "going\n",
      "to\n",
      "see\n",
      "how\n",
      "to\n",
      "sort\n",
      "both\n",
      "numeric\n",
      "data\n",
      "and\n",
      "string\n",
      "data\n",
      "to -> 2\n",
      "data -> 2\n"
     ]
    }
   ],
   "source": [
    "l=\"To get started with Python sorting, you’re first going to see how to sort both numeric data and string data\"\n",
    "s=l.split()\n",
    "d={}\n",
    "for i in s:\n",
    "    print(i)\n",
    "    d[i]=s.count(i)\n",
    "m=max(d.values())\n",
    "for k in d:\n",
    "    if d[k]==m:\n",
    "        print(k,\"->\",m)"
   ]
  },
  {
   "cell_type": "code",
   "execution_count": 1,
   "metadata": {},
   "outputs": [
    {
     "name": "stdout",
     "output_type": "stream",
     "text": [
      "enter a namereshendra raj good morning\n",
      "reshendra\n",
      "raj\n",
      "good\n",
      "morning\n"
     ]
    }
   ],
   "source": [
    "a=input(\"enter a name\")\n",
    "y=a.split()\n",
    "\n",
    "for i in y:\n",
    "    print(i)\n",
    "    \n",
    "    \n"
   ]
  },
  {
   "cell_type": "code",
   "execution_count": null,
   "metadata": {},
   "outputs": [],
   "source": []
  }
 ],
 "metadata": {
  "kernelspec": {
   "display_name": "Python 3",
   "language": "python",
   "name": "python3"
  },
  "language_info": {
   "codemirror_mode": {
    "name": "ipython",
    "version": 3
   },
   "file_extension": ".py",
   "mimetype": "text/x-python",
   "name": "python",
   "nbconvert_exporter": "python",
   "pygments_lexer": "ipython3",
   "version": "3.7.3"
  }
 },
 "nbformat": 4,
 "nbformat_minor": 2
}
