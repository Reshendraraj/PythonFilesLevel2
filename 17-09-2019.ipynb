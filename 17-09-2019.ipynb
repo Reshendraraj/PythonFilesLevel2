{
 "cells": [
  {
   "cell_type": "code",
   "execution_count": 22,
   "metadata": {},
   "outputs": [
    {
     "data": {
      "text/plain": [
       "96"
      ]
     },
     "execution_count": 22,
     "metadata": {},
     "output_type": "execute_result"
    }
   ],
   "source": [
    "s=set([78,45,68,96,34,26])\n",
    "l=list(s)\n",
    "l.sort()\n",
    "l[-1]"
   ]
  },
  {
   "cell_type": "markdown",
   "metadata": {},
   "source": [
    "# find maximum number in a set"
   ]
  },
  {
   "cell_type": "code",
   "execution_count": 12,
   "metadata": {},
   "outputs": [
    {
     "name": "stdout",
     "output_type": "stream",
     "text": [
      "94\n"
     ]
    }
   ],
   "source": [
    "s=set([45,67,89,94,25])\n",
    "print(max(s))"
   ]
  },
  {
   "cell_type": "markdown",
   "metadata": {},
   "source": [
    "# problem on lifts\n"
   ]
  },
  {
   "cell_type": "code",
   "execution_count": 5,
   "metadata": {},
   "outputs": [
    {
     "name": "stdout",
     "output_type": "stream",
     "text": [
      "3\n",
      "8\n",
      "b\n",
      "9\n",
      "b\n",
      "5\n",
      "b\n"
     ]
    }
   ],
   "source": [
    "t=int(input())\n",
    "a=0\n",
    "b=7\n",
    "for i in range(t):\n",
    "    n=int(input())\n",
    "    d1=abs(a-n)\n",
    "    d2=abs(b-n)\n",
    "    if d1<=d2:\n",
    "        print(\"a\")\n",
    "        a=n\n",
    "    else:\n",
    "        print(\"b\")\n",
    "        b=n\n",
    "    \n",
    "   "
   ]
  },
  {
   "cell_type": "markdown",
   "metadata": {},
   "source": [
    "# permutation"
   ]
  },
  {
   "cell_type": "code",
   "execution_count": 23,
   "metadata": {},
   "outputs": [
    {
     "name": "stdout",
     "output_type": "stream",
     "text": [
      "2\n",
      "reshe ehser\n",
      "yes\n",
      "kalesha ahelka\n",
      "no\n"
     ]
    }
   ],
   "source": [
    "t=int(input())\n",
    "for i in range(t):\n",
    "    s=input().split()\n",
    "    s1=sorted(s[0])\n",
    "    s2=sorted(s[1])\n",
    "    if s1==s2:\n",
    "        print(\"yes\")\n",
    "    else:\n",
    "         print(\"no\")\n",
    "\n",
    "    \n",
    "   \n"
   ]
  }
 ],
 "metadata": {
  "kernelspec": {
   "display_name": "Python 3",
   "language": "python",
   "name": "python3"
  },
  "language_info": {
   "codemirror_mode": {
    "name": "ipython",
    "version": 3
   },
   "file_extension": ".py",
   "mimetype": "text/x-python",
   "name": "python",
   "nbconvert_exporter": "python",
   "pygments_lexer": "ipython3",
   "version": "3.7.3"
  }
 },
 "nbformat": 4,
 "nbformat_minor": 2
}
