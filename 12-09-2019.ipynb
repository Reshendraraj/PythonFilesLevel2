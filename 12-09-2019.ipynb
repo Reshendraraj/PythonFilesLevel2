{
 "cells": [
  {
   "cell_type": "markdown",
   "metadata": {},
   "source": [
    "# finding number divisible by 6, not divisible 100 "
   ]
  },
  {
   "cell_type": "code",
   "execution_count": 14,
   "metadata": {},
   "outputs": [
    {
     "name": "stdout",
     "output_type": "stream",
     "text": [
      "enter a value56\n",
      "enter a value100\n",
      "60\n",
      "66\n",
      "72\n",
      "78\n",
      "84\n",
      "90\n",
      "96\n"
     ]
    }
   ],
   "source": [
    "a=int(input(\"enter a value\"))\n",
    "b=int(input(\"enter a value\"))\n",
    "def factors (a,b):\n",
    "        for i in range(a,b+1):\n",
    "            if i%6==0 and i%100!=0: \n",
    "                print(i)\n",
    "factors(a,b)"
   ]
  },
  {
   "cell_type": "markdown",
   "metadata": {},
   "source": [
    "# finding the cubes of all even in a given range"
   ]
  },
  {
   "cell_type": "code",
   "execution_count": 23,
   "metadata": {},
   "outputs": [
    {
     "name": "stdout",
     "output_type": "stream",
     "text": [
      "enter a value4\n",
      "enter a value8\n",
      "64\n",
      "216\n",
      "512\n"
     ]
    }
   ],
   "source": [
    "a=int(input(\"enter a lower bound\"))\n",
    "b=int(input(\"enter a upper bound\"))\n",
    "def evencubes (a,b):\n",
    "        for i in range(a,b+1):\n",
    "            if i%2==0: \n",
    "                print(i**3)\n",
    "evencubes(a,b)"
   ]
  },
  {
   "cell_type": "markdown",
   "metadata": {},
   "source": [
    "# factors for a given number"
   ]
  },
  {
   "cell_type": "code",
   "execution_count": 1,
   "metadata": {},
   "outputs": [
    {
     "name": "stdout",
     "output_type": "stream",
     "text": [
      "enter a value6786867\n",
      "1\n",
      "3\n",
      "607\n",
      "1821\n",
      "3727\n",
      "11181\n",
      "2262289\n",
      "6786867\n"
     ]
    }
   ],
   "source": [
    "a=int(input(\"enter a value\"))\n",
    "def factors(n):\n",
    "    for i in range(1,n+1):\n",
    "        if n%i==0:\n",
    "            print(i)\n",
    "factors(a)        "
   ]
  },
  {
   "cell_type": "markdown",
   "metadata": {},
   "source": [
    "# avg of cubes of even in a range"
   ]
  },
  {
   "cell_type": "code",
   "execution_count": 37,
   "metadata": {},
   "outputs": [
    {
     "name": "stdout",
     "output_type": "stream",
     "text": [
      "enter a lower bound45\n",
      "enter a upper bound48\n",
      "0\n",
      "48668\n",
      "32445\n",
      "51982\n"
     ]
    }
   ],
   "source": [
    "a=int(input(\"enter a lower bound\"))\n",
    "b=int(input(\"enter a upper bound\"))\n",
    "def avfofcubeofeven(a,b):\n",
    "    c=0\n",
    "    e=0\n",
    "    for i in range(a,b+1):\n",
    "        if i%2==0:\n",
    "            c=c+(i**3)\n",
    "        e=e+1\n",
    "        print(c//e)\n",
    "avgofcubeofeven (a,b)"
   ]
  },
  {
   "cell_type": "markdown",
   "metadata": {},
   "source": [
    "# dictionary"
   ]
  },
  {
   "cell_type": "code",
   "execution_count": 39,
   "metadata": {},
   "outputs": [
    {
     "name": "stdout",
     "output_type": "stream",
     "text": [
      "a 24\n",
      "b 45\n",
      "c 89\n",
      "d 95\n"
     ]
    }
   ],
   "source": [
    "d={\"a\":24,\"b\":45,\"c\":89,\"d\":95}\n",
    "for key,value in d.items():\n",
    "    print(key,value)"
   ]
  },
  {
   "cell_type": "code",
   "execution_count": null,
   "metadata": {},
   "outputs": [],
   "source": []
  }
 ],
 "metadata": {
  "kernelspec": {
   "display_name": "Python 3",
   "language": "python",
   "name": "python3"
  },
  "language_info": {
   "codemirror_mode": {
    "name": "ipython",
    "version": 3
   },
   "file_extension": ".py",
   "mimetype": "text/x-python",
   "name": "python",
   "nbconvert_exporter": "python",
   "pygments_lexer": "ipython3",
   "version": "3.7.3"
  }
 },
 "nbformat": 4,
 "nbformat_minor": 2
}
